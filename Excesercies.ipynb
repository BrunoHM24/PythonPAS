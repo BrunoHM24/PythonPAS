{
 "cells": [
  {
   "cell_type": "code",
   "execution_count": null,
   "metadata": {},
   "outputs": [],
   "source": [
    "print(\"Hello Internet\")\n",
    "print(\"I'M from the UT Altamira\")\n",
    "print(\"I like mechatronics\")\n",
    "print(\"I went to Nuevo Laredo and Guadalajara in this month\")\n",
    "print('And .')\n",
    "print(\"and i met new friends.\")\n",
    "print('it was a marvelous experiences')"
   ]
  },
  {
   "cell_type": "code",
   "execution_count": 21,
   "metadata": {},
   "outputs": [
    {
     "name": "stdout",
     "output_type": "stream",
     "text": [
      "You can not see the behind comment.\n",
      "I have hiden power.\n"
     ]
    }
   ],
   "source": [
    "# THIS IS A COMMENT NOBODY CAN SEE IT\n",
    "\n",
    "print(\"You can not see the behind comment.\") #OwO\n",
    "\n",
    "# you can't see me \n",
    "\n",
    "print(\"I have hiden power.\")\n"
   ]
  },
  {
   "cell_type": "code",
   "execution_count": 24,
   "metadata": {},
   "outputs": [
    {
     "name": "stdout",
     "output_type": "stream",
     "text": [
      "I will now countmy 'MAGIC: GATHERING' CARDS:\n",
      "Lands 24.0\n",
      "Monsers 34\n",
      "Dice's, and accesories:\n",
      "18.8\n",
      "Is it true that 1 + 8 < 7 - 4?\n",
      "False\n"
     ]
    }
   ],
   "source": [
    "print(\"I will now count 'MAGIC: GATHERING' CARDS:\")\n",
    "print(\"Lands\", 14 + 30 / 3)\n",
    "print(\"Monsers\", 19+10+5)\n",
    "\n",
    "print(\"Dice's, and accesories:\")\n",
    "print(10 + 4+ 9 - 7 + 2 % 2 - 1 / 5 + 3)\n",
    "print(\"Is it true that 1 + 8 < 7 - 4?\")\n",
    "\n",
    "print(1 + 8 < 7 - 4)\n"
   ]
  },
  {
   "cell_type": "code",
   "execution_count": 39,
   "metadata": {},
   "outputs": [
    {
     "name": "stdout",
     "output_type": "stream",
     "text": [
      "There are 30 supermarkers open.\n",
      "There are  8.0 meters.\n",
      "There are 17 cashiers work\n",
      "There are 10 SuperMakers closed\n",
      "In the super makers are 8.0 corridors avalible.\n"
     ]
    }
   ],
   "source": [
    "supermarkers = 30\n",
    "space_in_a_supermarker = 8.0\n",
    "supervisors = 10\n",
    "cashiers = 17\n",
    "supermarkers_not_open = supermarkers - supervisors - 10\n",
    "corridors = space_in_a_supermarker\n",
    "\n",
    "print(\"There are\", supermarkers , \"supermarkers open.\")\n",
    "print(\"There are \", space_in_a_supermarker , \"meters.\")\n",
    "print(\"There are\", cashiers , \"cashiers work\")\n",
    "print(\"There are\", supermarkers_not_open, \"SuperMakers closed\")\n",
    "print(\"In the super makers are\", corridors, \"corridors avalible.\")"
   ]
  },
  {
   "cell_type": "code",
   "execution_count": 41,
   "metadata": {},
   "outputs": [
    {
     "name": "stdout",
     "output_type": "stream",
     "text": [
      "Let's talk about my frienGerardo Rmz. Av..\n",
      "He's 67 inches tall.\n",
      "He's 134 pounds heavy.\n",
      "his birth day is may 12 1999 \n",
      "He's got brown eyes and Black hair.\n",
      "His teeth are usually White depending on the coffee.\n",
      "If I add 20, 67, and 134 I get 221.\n"
     ]
    }
   ],
   "source": [
    "my_name = 'Gerardo Rmz. Av.'\n",
    "my_age = 20 # yes im my face look like a baby uwu\n",
    "my_height = 67 # inches\n",
    "my_weight = 134 # lbs\n",
    "my_eyes = 'brown'\n",
    "my_teeth = 'White'\n",
    "my_hair = 'Black'\n",
    "my_birthday = 'may 12 1999'\n",
    "\n",
    "print(f\"Let's talk about my frien{my_name}.\")\n",
    "print(f\"He's {my_height} inches tall.\")\n",
    "print(f\"He's {my_weight} pounds.\")\n",
    "print(f\"his birth day is {my_birthday} \")\n",
    "print(f\"He's got {my_eyes} eyes and {my_hair} hair.\")\n",
    "print(f\"His teeth are usually {my_teeth} depending on the coffee.\")\n",
    "\n",
    "\n",
    "total = my_age + my_height + my_weight\n",
    "print(f\"If I add {my_age}, {my_height}, and {my_weight} I get {total}.\")"
   ]
  },
  {
   "cell_type": "code",
   "execution_count": 66,
   "metadata": {},
   "outputs": [
    {
     "name": "stdout",
     "output_type": "stream",
     "text": [
      "There are 15 types of books.\n",
      "Those who know red and those who don't.\n",
      "you said: There are 15 types of books.\n",
      "you also said: 'Those who know red and those who don't.'\n",
      "Isn't that prank so funny?! False\n",
      "This is the behind side of...a string with a left side.\n"
     ]
    }
   ],
   "source": [
    " types_of_books = 15\n",
    "m = f\"There are {types_of_books} types of books.\"\n",
    "\n",
    "red = \"red\"\n",
    "do_not = \"don't\"\n",
    "c = f\"Those who know {red} and those who {do_not}.\"\n",
    "\n",
    "print(m)\n",
    "print(c)\n",
    "\n",
    "print(f\"you said: {m}\")\n",
    "print(f\"you also said: '{c}'\")\n",
    "\n",
    "funny = False\n",
    "\n",
    "funny_evaluation = \"Isn't that prank so funny?! {}\"\n",
    "\n",
    "print(funny_evaluation.format(funny))\n",
    "\n",
    "p = \"This is the behind side of...\"\n",
    "k = \"a string with a left side.\"\n",
    "\n",
    "print(p + k)"
   ]
  },
  {
   "cell_type": "code",
   "execution_count": 47,
   "metadata": {},
   "outputs": [
    {
     "name": "stdout",
     "output_type": "stream",
     "text": [
      "bruno has a chick.\n",
      "as yellow as the leaves of a Sunflower.\n",
      "bruno loves that chicken very much\n",
      "--------------------\n",
      "pillow\n"
     ]
    }
   ],
   "source": [
    "print(\"bruno has a chick.\")\n",
    "print(\"as yellow as the leaves of a {}.\".format('Sunflower'))\n",
    "print(\"bruno loves that chicken very much\")\n",
    "print(\"-\" * 20)\n",
    "\n",
    "end1 = \"p\"\n",
    "end2 = \"i\"\n",
    "end3 = \"l\"\n",
    "end4 = \"l\"\n",
    "end5 = \"o\"\n",
    "end6 = \"w\"\n",
    "\n",
    "\n",
    "# watch that comma at the end. try removing it to see what happens\n",
    "print(end1 + end2 + end3 + end4 + end5 + end6,)"
   ]
  },
  {
   "cell_type": "code",
   "execution_count": 60,
   "metadata": {},
   "outputs": [
    {
     "name": "stdout",
     "output_type": "stream",
     "text": [
      "234 564 467 345\n",
      "math thermodinamics Elecicity Calculus\n",
      "False False True True\n",
      "{} {} {} {} {} {} {} {} {} {} {} {} {} {} {} {}\n",
      "The reds are reds an you are the most importan person for me\n"
     ]
    }
   ],
   "source": [
    "formatter = \"{} {} {} {}\"\n",
    "\n",
    "print(formatter.format(234, 564, 467, 345))\n",
    "print(formatter.format(\"math\", \"thermodinamics\", \"Elecicity\", \"Calculus\"))\n",
    "print(formatter.format(False, False, True, True))\n",
    "print(formatter.format(formatter, formatter, formatter, formatter))\n",
    "print(formatter.format(\n",
    "    \"The reds\",\n",
    "    \"are reds\",\n",
    "    \"an you are\",\n",
    "    \"the most importan person for me\"))\n"
   ]
  },
  {
   "cell_type": "code",
   "execution_count": 67,
   "metadata": {},
   "outputs": [
    {
     "name": "stdout",
     "output_type": "stream",
     "text": [
      "Here are the colors:  RED GREEN BLUE BLACK\n",
      "Here are the flavors:  spice\n",
      "bitter\n",
      "sour\n",
      "swaet\n",
      "salty\n",
      "\n",
      "I had a little nut tree and nothing would it bear,\n",
      "But a silver nutmeg and a golden pear.\n",
      "The king of Spain's daughter came to visit me,\n",
      "And all for the sake of my little nut tree.\n",
      "\n"
     ]
    }
   ],
   "source": [
    "\n",
    "colors = \"RED GREEN BLUE BLACK\"\n",
    "flavors = \"spice\\nbitter\\nsour\\nswaet\\nsalty\"\n",
    "\n",
    "print(\"Here are the colors: \", colors)\n",
    "print(\"Here are the flavors: \", flavors)\n",
    "\n",
    "print(\"\"\"\n",
    "I had a little nut tree and nothing would it bear,\n",
    "But a silver nutmeg and a golden pear.\n",
    "The king of Spain's daughter came to visit me,\n",
    "And all for the sake of my little nut tree.\n",
    "\"\"\")\n"
   ]
  },
  {
   "cell_type": "code",
   "execution_count": 69,
   "metadata": {},
   "outputs": [
    {
     "name": "stdout",
     "output_type": "stream",
     "text": [
      "\tI'm tired.\n",
      "a line is goin to divide me \n",
      "oh no the line divede me.\n",
      "I'm \\ the  \\ parnert of jerry.\n",
      "\n",
      "I'll do a list of the supplies:\n",
      "\t* mayonnaise\n",
      "\t* Fishies\n",
      "\t* ham\n",
      "\t* vegetables\n",
      "\n"
     ]
    }
   ],
   "source": [
    "lalo = \"\\tI'm tired.\"\n",
    "bruno = \"a line is goin to divide me \\noh no the line divede me.\"\n",
    "lupita = \"I'm \\\\ the  \\\\ parnert of jerry.\"\n",
    "\n",
    "shop_list = \"\"\"\n",
    "I'll do a list of the supplies:\n",
    "\\t* mayonnaise\n",
    "\\t* Fishies\n",
    "\\t* ham\\n\\t* vegetables\n",
    "\"\"\"\n",
    "\n",
    "print(lalo)\n",
    "print(bruno)\n",
    "print(lupita)\n",
    "print(shop_list)"
   ]
  },
  {
   "cell_type": "code",
   "execution_count": null,
   "metadata": {},
   "outputs": [],
   "source": []
  }
 ],
 "metadata": {
  "kernelspec": {
   "display_name": "Python 3",
   "language": "python",
   "name": "python3"
  },
  "language_info": {
   "codemirror_mode": {
    "name": "ipython",
    "version": 3
   },
   "file_extension": ".py",
   "mimetype": "text/x-python",
   "name": "python",
   "nbconvert_exporter": "python",
   "pygments_lexer": "ipython3",
   "version": "3.7.4"
  }
 },
 "nbformat": 4,
 "nbformat_minor": 4
}
