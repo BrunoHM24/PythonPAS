{
 "cells": [
  {
   "cell_type": "markdown",
   "metadata": {},
   "source": [
    "##### print(\"-----------MENU-----------\")\n",
    "print(\"1.-Sample mean\")\n",
    "print(\"2.-Moda\")\n",
    "print(\"Simple desviation\")\n",
    "numero =int(input(\"Please select the option: \"))\n",
    "if numero == 1:\n",
    "    print(\"-----------Sample Mean-----------\")\n",
    "    val= int(input(\"How many values do you want to introduce? \"))\n",
    "    numbers = []\n",
    "    total=0\n",
    "    \n",
    "    for i in range (0,val):\n",
    "        x=int(input(f\"Introduce the X{i+1}: \"))\n",
    "        numbers.append(x)\n",
    "        total+= x\n",
    "        sample_mean = total/val\n",
    "    \n",
    "    print(f\"\\nThe sample mean is = {sample_mean}\")\n",
    "\n",
    "elif numero==2:\n",
    "    print(\"-----------Moda-----------\")\n",
    "    valu=int(input(\"Introduce the number of data that you will use: \"))\n",
    "    data=[]\n",
    "    total=0\n",
    "    for i in range(0,valu):\n",
    "        x=int(input(f\"Introduce the X{i+1}: \"))\n",
    "        data.append(x)\n",
    "        \n",
    "        rep=0\n",
    "    for i in data:\n",
    "        appears=data.count(i)\n",
    "        if appears > rep:\n",
    "            rep= appears\n",
    "    \n",
    "    modas = []\n",
    "    for i in data:\n",
    "        appears = data.count(i)\n",
    "        if appears == rep and i not in modas:\n",
    "            modas.append(i)\n",
    "    \n",
    "    print(\"Moda is: \", modas)\n",
    "    \n",
    "elif numero == 3:\n",
    "    print(\"-----------Standard Desviation-----------\")\n",
    "    val=int(input(\"Introduce the data that you will use: \"))\n",
    "    data= []\n",
    "    total=0\n",
    "\n",
    "    for i in range(0,val):\n",
    "        x=int(input(f\"Introduce X{i+1}: \"))\n",
    "        data.append(x)\n",
    "        total+=x\n",
    "        sample_mean=total/val\n",
    "        div= []\n",
    "        for dato in data:\n",
    "            r=(dato - sample_mean)**2\n",
    "            div.append(r)\n",
    "        \n",
    "        desviation = (sum(div)/(val-1))**0.5\n",
    "        \n",
    "    print(\"The standard desviation is: \", desviation)\n",
    "    \n",
    "else:\n",
    "    print(\"Error, Retype a number\")\n",
    "    "
   ]
  },
  {
   "cell_type": "code",
   "execution_count": 6,
   "metadata": {},
   "outputs": [
    {
     "name": "stdout",
     "output_type": "stream",
     "text": [
      "-----------MENU-----------\n",
      "1.-Sample mean\n",
      "2.-Moda\n",
      "Simple desviation\n"
     ]
    },
    {
     "name": "stdin",
     "output_type": "stream",
     "text": [
      "Please select the option:  9\n"
     ]
    },
    {
     "name": "stdout",
     "output_type": "stream",
     "text": [
      "Error, Retype a number\n"
     ]
    }
   ],
   "source": [
    "print(\"-----------MENU-----------\")\n",
    "print(\"1.-Sample mean\")\n",
    "print(\"2.-Moda\")\n",
    "print(\"Simple desviation\")\n",
    "numero =int(input(\"Please select the option: \"))\n",
    "if numero == 1:\n",
    "    print(\"-----------Sample Mean-----------\")\n",
    "    val= int(input(\"How many values do you want to introduce? \"))\n",
    "    numbers = []\n",
    "    total=0\n",
    "    \n",
    "    for i in range (0,val):\n",
    "        x=int(input(f\"Introduce the X{i+1}: \"))\n",
    "        numbers.append(x)\n",
    "        total+= x\n",
    "        sample_mean = total/val\n",
    "    \n",
    "    print(f\"\\nThe sample mean is = {sample_mean}\")\n",
    "\n",
    "elif numero==2:\n",
    "    print(\"-----------Moda-----------\")\n",
    "    valu=int(input(\"Introduce the number of data that you will use: \"))\n",
    "    data=[]\n",
    "    total=0\n",
    "    for i in range(0,valu):\n",
    "        x=int(input(f\"Introduce the X{i+1}: \"))\n",
    "        data.append(x)\n",
    "        \n",
    "        rep=0\n",
    "    for i in data:\n",
    "        appears=data.count(i)\n",
    "        if appears > rep:\n",
    "            rep= appears\n",
    "    \n",
    "    modas = []\n",
    "    for i in data:\n",
    "        appears = data.count(i)\n",
    "        if appears == rep and i not in modas:\n",
    "            modas.append(i)\n",
    "    \n",
    "    print(\"Moda is: \", modas)\n",
    "    \n",
    "elif numero == 3:\n",
    "    print(\"-----------Standard Desviation-----------\")\n",
    "    val=int(input(\"Introduce the data that you will use: \"))\n",
    "    data= []\n",
    "    total=0\n",
    "\n",
    "    for i in range(0,val):\n",
    "        x=int(input(f\"Introduce X{i+1}: \"))\n",
    "        data.append(x)\n",
    "        total+=x\n",
    "        sample_mean=total/val\n",
    "        div= []\n",
    "        for dato in data:\n",
    "            r=(dato - sample_mean)**2\n",
    "            div.append(r)\n",
    "        \n",
    "        desviation = (sum(div)/(val-1))**0.5\n",
    "        \n",
    "    print(\"The standard desviation is: \", desviation)\n",
    "    \n",
    "else:\n",
    "    print(\"Error, Retype a number\")\n",
    "    "
   ]
  },
  {
   "cell_type": "code",
   "execution_count": 7,
   "metadata": {},
   "outputs": [
    {
     "name": "stdout",
     "output_type": "stream",
     "text": [
      "-----------MENU-----------\n",
      "1.-Sample mean\n",
      "2.-Moda\n",
      "Simple desviation\n"
     ]
    },
    {
     "name": "stdin",
     "output_type": "stream",
     "text": [
      "Please select the option:  2\n"
     ]
    },
    {
     "name": "stdout",
     "output_type": "stream",
     "text": [
      "-----------Moda-----------\n"
     ]
    },
    {
     "name": "stdin",
     "output_type": "stream",
     "text": [
      "Introduce the number of data that you will use:  7\n",
      "Introduce the X1:  7\n",
      "Introduce the X2:  7\n",
      "Introduce the X3:  8\n",
      "Introduce the X4:  4\n",
      "Introduce the X5:  7\n",
      "Introduce the X6:  9\n",
      "Introduce the X7:  9\n"
     ]
    },
    {
     "name": "stdout",
     "output_type": "stream",
     "text": [
      "Moda is:  [7]\n"
     ]
    }
   ],
   "source": [
    "print(\"-----------MENU-----------\")\n",
    "print(\"1.-Sample mean\")\n",
    "print(\"2.-Moda\")\n",
    "print(\"Simple desviation\")\n",
    "numero =int(input(\"Please select the option: \"))\n",
    "if numero == 1:\n",
    "    print(\"-----------Sample Mean-----------\")\n",
    "    val= int(input(\"How many values do you want to introduce? \"))\n",
    "    numbers = []\n",
    "    total=0\n",
    "    \n",
    "    for i in range (0,val):\n",
    "        x=int(input(f\"Introduce the X{i+1}: \"))\n",
    "        numbers.append(x)\n",
    "        total+= x\n",
    "        sample_mean = total/val\n",
    "    \n",
    "    print(f\"\\nThe sample mean is = {sample_mean}\")\n",
    "\n",
    "elif numero==2:\n",
    "    print(\"-----------Moda-----------\")\n",
    "    valu=int(input(\"Introduce the number of data that you will use: \"))\n",
    "    data=[]\n",
    "    total=0\n",
    "    for i in range(0,valu):\n",
    "        x=int(input(f\"Introduce the X{i+1}: \"))\n",
    "        data.append(x)\n",
    "        \n",
    "        rep=0\n",
    "    for i in data:\n",
    "        appears=data.count(i)\n",
    "        if appears > rep:\n",
    "            rep= appears\n",
    "    \n",
    "    modas = []\n",
    "    for i in data:\n",
    "        appears = data.count(i)\n",
    "        if appears == rep and i not in modas:\n",
    "            modas.append(i)\n",
    "    \n",
    "    print(\"Moda is: \", modas)\n",
    "    \n",
    "elif numero == 3:\n",
    "    print(\"-----------Standard Desviation-----------\")\n",
    "    val=int(input(\"Introduce the data that you will use: \"))\n",
    "    data= []\n",
    "    total=0\n",
    "\n",
    "    for i in range(0,val):\n",
    "        x=int(input(f\"Introduce X{i+1}: \"))\n",
    "        data.append(x)\n",
    "        total+=x\n",
    "        sample_mean=total/val\n",
    "        div= []\n",
    "        for dato in data:\n",
    "            r=(dato - sample_mean)**2\n",
    "            div.append(r)\n",
    "        \n",
    "        desviation = (sum(div)/(val-1))**0.5\n",
    "        \n",
    "    print(\"The standard desviation is: \", desviation)\n",
    "    \n",
    "else:\n",
    "    print(\"Error, Retype a number\")\n"
   ]
  },
  {
   "cell_type": "code",
   "execution_count": null,
   "metadata": {},
   "outputs": [],
   "source": []
  }
 ],
 "metadata": {
  "kernelspec": {
   "display_name": "Python 3",
   "language": "python",
   "name": "python3"
  },
  "language_info": {
   "codemirror_mode": {
    "name": "ipython",
    "version": 3
   },
   "file_extension": ".py",
   "mimetype": "text/x-python",
   "name": "python",
   "nbconvert_exporter": "python",
   "pygments_lexer": "ipython3",
   "version": "3.7.4"
  }
 },
 "nbformat": 4,
 "nbformat_minor": 4
}
