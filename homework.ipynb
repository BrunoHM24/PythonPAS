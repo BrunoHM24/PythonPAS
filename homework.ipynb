{
 "cells": [
  {
   "cell_type": "markdown",
   "metadata": {},
   "source": [
    "Homewor 2"
   ]
  },
  {
   "cell_type": "code",
   "execution_count": 12,
   "metadata": {},
   "outputs": [
    {
     "name": "stdin",
     "output_type": "stream",
     "text": [
      "introduce te number of data 5\n",
      "type the 1 data 1\n",
      "type the 2 data 5\n",
      "type the 3 data 2\n",
      "type the 4 data 1\n",
      "type the 5 data 5\n"
     ]
    },
    {
     "name": "stdout",
     "output_type": "stream",
     "text": [
      "Your values ordered are:\n",
      "[1, 1, 2, 5, 5]\n",
      "Introduce the percentage of the trimmed mean:\n"
     ]
    },
    {
     "name": "stdin",
     "output_type": "stream",
     "text": [
      " 20\n"
     ]
    },
    {
     "name": "stdout",
     "output_type": "stream",
     "text": [
      "Values that are going to be removed are: 1\n",
      "Your new values ordered are:\n",
      "[1, 2, 5]\n",
      "Your trimmed mean is: 2.6666666666666665\n"
     ]
    }
   ],
   "source": [
    "conjunto = int(input(\"introduce te number of data\"))\n",
    "xstring = []\n",
    "\n",
    "for i in range (0, conjunto ):\n",
    "    var = int(input(f\"type the {i+1} data\"))\n",
    "    xstring.append(var)\n",
    "\n",
    "\n",
    "print(\"Your values ordered are:\")\n",
    "order = sorted(xstring)\n",
    "print(order)\n",
    "\n",
    "print(\"Introduce the percentage of the trimmed mean:\")\n",
    "p = int(input())\n",
    "pd= p/100\n",
    "nv = int(pd * cont)\n",
    "print(f\"Values that are going to be removed are: {nv}\")\n",
    "\n",
    "newcont = 0 \n",
    "sum_z = 0\n",
    "newstring = []\n",
    "for i in range (nv,cont-nv):\n",
    "    z = order[i]\n",
    "    newstring.append(z)\n",
    "    newcont = newcont + 1\n",
    "    sum_z = sum_z + z\n",
    "    \n",
    "print(\"Your new values ordered are:\")\n",
    "print(newstring)\n",
    "\n",
    "trim_mean = sum_z/newcont\n",
    "print(f\"Your trimmed mean is: {trim_mean}\")\n"
   ]
  }
 ],
 "metadata": {
  "kernelspec": {
   "display_name": "Python 3",
   "language": "python",
   "name": "python3"
  },
  "language_info": {
   "codemirror_mode": {
    "name": "ipython",
    "version": 3
   },
   "file_extension": ".py",
   "mimetype": "text/x-python",
   "name": "python",
   "nbconvert_exporter": "python",
   "pygments_lexer": "ipython3",
   "version": "3.7.4"
  }
 },
 "nbformat": 4,
 "nbformat_minor": 4
}
