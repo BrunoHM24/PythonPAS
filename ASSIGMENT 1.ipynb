{
 "cells": [
  {
   "cell_type": "markdown",
   "metadata": {},
   "source": [
    "ASSIGMENT 1 \n",
    "A little program that ask the name of the user and age of his frieds"
   ]
  },
  {
   "cell_type": "code",
   "execution_count": 4,
   "metadata": {},
   "outputs": [
    {
     "name": "stdout",
     "output_type": "stream",
     "text": [
      "What is your name?"
     ]
    },
    {
     "name": "stdin",
     "output_type": "stream",
     "text": [
      " gerardo\n"
     ]
    },
    {
     "name": "stdout",
     "output_type": "stream",
     "text": [
      "Hi, gerardo.\n"
     ]
    },
    {
     "name": "stdin",
     "output_type": "stream",
     "text": [
      "how old are you Evelyn 19\n",
      "and you Marco?? 19\n",
      "Sorry i forgot you lupita my partner jsjs  19\n"
     ]
    },
    {
     "name": "stdout",
     "output_type": "stream",
     "text": [
      "do you know that the sample mean of your age is, 19.0?\n"
     ]
    }
   ],
   "source": [
    "print(\"What is your name?\", end = '') #in this part the program ask to the user his/her name \n",
    "name  = input()#the user put his/her name\n",
    "print(f\"Hi, {name}.\")#the computer greathings the user\n",
    "age1 = int(input(\"how old are you Evelyn\"))#ask for his/her to the the first user\n",
    "age2 = int(input(\"and you Marco??\"))#ask for his/her to the the second user\n",
    "age3 = int(input(\"Sorry i forgot you lupita my partner jsjs \"))#ask for his/her to the the third user\n",
    "\n",
    "prom = ((age1 + age2 + age3)/3) #do the sample mean\n",
    "\n",
    "print(f\"do you know that the sample mean of your age is, {prom}?\")#one curiosity"
   ]
  },
  {
   "cell_type": "code",
   "execution_count": null,
   "metadata": {},
   "outputs": [],
   "source": []
  }
 ],
 "metadata": {
  "kernelspec": {
   "display_name": "Python 3",
   "language": "python",
   "name": "python3"
  },
  "language_info": {
   "codemirror_mode": {
    "name": "ipython",
    "version": 3
   },
   "file_extension": ".py",
   "mimetype": "text/x-python",
   "name": "python",
   "nbconvert_exporter": "python",
   "pygments_lexer": "ipython3",
   "version": "3.7.4"
  }
 },
 "nbformat": 4,
 "nbformat_minor": 4
}
